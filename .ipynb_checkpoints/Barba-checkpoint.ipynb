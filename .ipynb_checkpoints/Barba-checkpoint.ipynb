{
 "metadata": {
  "name": "",
  "signature": "sha256:23ba9192458349f0bff28972b9119018fde32803aa923291816533b592992b9c"
 },
 "nbformat": 3,
 "nbformat_minor": 0,
 "worksheets": []
}