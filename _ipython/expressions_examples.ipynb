{
 "metadata": {
  "name": "",
  "signature": "sha256:d05ecacc3a5dfbcb81f4e06b82efd3cd641b444c6f159a0f9080036ae96170e6"
 },
 "nbformat": 3,
 "nbformat_minor": 0,
 "worksheets": [
  {
   "cells": [
    {
     "cell_type": "code",
     "collapsed": false,
     "input": [
      "# Compute number of feet corresponding to number of miles\n",
      "\n",
      "#####\n",
      "# Miles to feet conversion expression\n",
      "#####\n",
      "print 13 * 5280\n",
      "\n",
      "#####\n",
      "# Expected output\n",
      "#####\n",
      "# 68640"
     ],
     "language": "python",
     "metadata": {},
     "outputs": [
      {
       "output_type": "stream",
       "stream": "stdout",
       "text": [
        "68640\n"
       ]
      }
     ],
     "prompt_number": 1
    },
    {
     "cell_type": "code",
     "collapsed": false,
     "input": [
      "# Compute the number of seconds in a given number of hours, minutes, and seconds.\n",
      "\n",
      "###################################################\n",
      "# Hours, minutes, and seconds to seconds conversion formula\n",
      "# Student should enter statement on the next line.\n",
      "\n",
      "print 7 * 60 * 60 + 21 * 60 + 37\n",
      "\n",
      "###################################################\n",
      "# Expected output\n",
      "# Student should look at the following comments and compare to printed output.\n",
      "\n",
      "#26497"
     ],
     "language": "python",
     "metadata": {},
     "outputs": [
      {
       "output_type": "stream",
       "stream": "stdout",
       "text": [
        "26497\n"
       ]
      }
     ],
     "prompt_number": 2
    },
    {
     "cell_type": "code",
     "collapsed": false,
     "input": [
      "# Compute the length of a rectangle's perimeter, given its width and height.\n",
      "\n",
      "###################################################\n",
      "# Rectangle perimeter formula\n",
      "# Student should enter statement on the next line.\n",
      "\n",
      "w = 4\n",
      "h = 7\n",
      "\n",
      "print 2 * w + 2 * h\n",
      "\n",
      "###################################################\n",
      "# Expected output\n",
      "# Student should look at the following comments and compare to printed output.\n",
      "\n",
      "#22"
     ],
     "language": "python",
     "metadata": {},
     "outputs": [
      {
       "output_type": "stream",
       "stream": "stdout",
       "text": [
        "22\n"
       ]
      }
     ],
     "prompt_number": 3
    },
    {
     "cell_type": "code",
     "collapsed": false,
     "input": [
      "# Compute the area of a rectangle, given its width and height.\n",
      "\n",
      "###################################################\n",
      "# Rectangle area formula\n",
      "# Student should enter statement on the next line.\n",
      "\n",
      "w = 4\n",
      "h = 7\n",
      "\n",
      "print w * h\n",
      "\n",
      "###################################################\n",
      "# Expected output\n",
      "# Student should look at the following comments and compare to printed output.\n",
      "\n",
      "#28"
     ],
     "language": "python",
     "metadata": {},
     "outputs": [
      {
       "output_type": "stream",
       "stream": "stdout",
       "text": [
        "28\n"
       ]
      }
     ],
     "prompt_number": 4
    },
    {
     "cell_type": "code",
     "collapsed": false,
     "input": [
      "# Compute the circumference of a circle, given the length of its radius.\n",
      "\n",
      "###################################################\n",
      "# Circle circumference formula\n",
      "# Student should enter statement on the next line.\n",
      "\n",
      "pi = 3.14\n",
      "r = 8 \n",
      "\n",
      "print 2 * pi * r\n",
      "\n",
      "###################################################\n",
      "# Expected output\n",
      "# Student should look at the following comments and compare to printed output.\n",
      "\n",
      "#50.24"
     ],
     "language": "python",
     "metadata": {},
     "outputs": [
      {
       "output_type": "stream",
       "stream": "stdout",
       "text": [
        "50.24\n"
       ]
      }
     ],
     "prompt_number": 5
    },
    {
     "cell_type": "code",
     "collapsed": false,
     "input": [
      "# Compute the area of a circle, given the length of its radius.\n",
      "\n",
      "###################################################\n",
      "# Circle area formula\n",
      "# Student should enter statement on the next line.\n",
      "pi = 3.14\n",
      "r = 8\n",
      "\n",
      "print pi * r ** 2\n",
      "\n",
      "###################################################\n",
      "# Expected output\n",
      "# Student should look at the following comments and compare to printed output.\n",
      "\n",
      "#200.96"
     ],
     "language": "python",
     "metadata": {},
     "outputs": [
      {
       "output_type": "stream",
       "stream": "stdout",
       "text": [
        "200.96\n"
       ]
      }
     ],
     "prompt_number": 6
    },
    {
     "cell_type": "code",
     "collapsed": false,
     "input": [
      "# Compute the future value of a given present value, annual rate, and number of years.\n",
      "\n",
      "###################################################\n",
      "# Future value formula\n",
      "# Student should enter statement on the next line.\n",
      "\n",
      "1000 * (1 + 0.01 * 7) ** 10\n",
      "\n",
      "###################################################\n",
      "# Expected output\n",
      "# Student should look at the following comments and compare to printed output.\n",
      "\n",
      "#1967.15135729"
     ],
     "language": "python",
     "metadata": {},
     "outputs": [
      {
       "metadata": {},
       "output_type": "pyout",
       "prompt_number": 7,
       "text": [
        "1967.1513572895665"
       ]
      }
     ],
     "prompt_number": 7
    },
    {
     "cell_type": "code",
     "collapsed": false,
     "input": [
      "# Compute a name tag, given the first and last name.\n",
      "\n",
      "###################################################\n",
      "# Name tag formula\n",
      "# Student should enter statement on the next line.\n",
      "\n",
      "print \"My name is \" + \"Joe\" + \" Warren\"\n",
      "\n",
      "###################################################\n",
      "# Expected output\n",
      "# Student should look at the following comments and compare to printed output.\n",
      "\n",
      "#My name is Joe Warren."
     ],
     "language": "python",
     "metadata": {},
     "outputs": [
      {
       "output_type": "stream",
       "stream": "stdout",
       "text": [
        "My name is Joe Warren\n"
       ]
      }
     ],
     "prompt_number": 9
    },
    {
     "cell_type": "code",
     "collapsed": false,
     "input": [
      "# Compute the statement about a person's name and age, given the person's name and age.\n",
      "\n",
      "###################################################\n",
      "# Name and age formula\n",
      "# Student should enter statement on the next line.\n",
      "\n",
      "print \"Joe Warren is \" + str(52) + \" years old\"\n",
      "\n",
      "###################################################\n",
      "# Expected output\n",
      "# Student should look at the following comments and compare to printed output.\n",
      "\n",
      "#Joe Warren is 52 years old."
     ],
     "language": "python",
     "metadata": {},
     "outputs": [
      {
       "output_type": "stream",
       "stream": "stdout",
       "text": [
        "Joe Warren is 52 years old\n"
       ]
      }
     ],
     "prompt_number": 10
    },
    {
     "cell_type": "code",
     "collapsed": false,
     "input": [
      "# Compute the distance between the points (x0, y0) and (x1, y1).\n",
      "\n",
      "###################################################\n",
      "# Distance formula\n",
      "# Student should enter statement on the next line.\n",
      "\n",
      "# Hint: You need to use the power operation ** .\n",
      "\n",
      "x0 = 2\n",
      "y0 = 2\n",
      "\n",
      "x1 = 5\n",
      "y1 = 6\n",
      "\n",
      "print ((x0 - x1)**2 + (y0 - y1)**2)**0.5\n",
      "###################################################\n",
      "# Expected output\n",
      "# Student should look at the following comments and compare to printed output.\n",
      "\n",
      "#5.0"
     ],
     "language": "python",
     "metadata": {},
     "outputs": [
      {
       "output_type": "stream",
       "stream": "stdout",
       "text": [
        "5.0\n"
       ]
      }
     ],
     "prompt_number": 12
    },
    {
     "cell_type": "code",
     "collapsed": false,
     "input": [],
     "language": "python",
     "metadata": {},
     "outputs": []
    }
   ],
   "metadata": {}
  }
 ]
}